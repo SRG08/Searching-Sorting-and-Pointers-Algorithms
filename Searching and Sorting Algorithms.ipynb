{
 "cells": [
  {
   "cell_type": "markdown",
   "metadata": {
    "toc": true
   },
   "source": [
    "<h1>Table of Contents<span class=\"tocSkip\"></span></h1>\n",
    "<div class=\"toc\"><ul class=\"toc-item\"><li><span><a href=\"#Searching-,-Sorting-and-Pointers-Algorithms\" data-toc-modified-id=\"Searching-,-Sorting-and-Pointers-Algorithms-1\"><span class=\"toc-item-num\">1&nbsp;&nbsp;</span><strong>Searching , Sorting and Pointers Algorithms</strong></a></span><ul class=\"toc-item\"><li><span><a href=\"#__-Searching-Algorithms-__\" data-toc-modified-id=\"__-Searching-Algorithms-__-1.1\"><span class=\"toc-item-num\">1.1&nbsp;&nbsp;</span>__ Searching Algorithms __</a></span><ul class=\"toc-item\"><li><span><a href=\"#Linear-Search\" data-toc-modified-id=\"Linear-Search-1.1.1\"><span class=\"toc-item-num\">1.1.1&nbsp;&nbsp;</span><strong>Linear Search</strong></a></span></li><li><span><a href=\"#Binary-Search\" data-toc-modified-id=\"Binary-Search-1.1.2\"><span class=\"toc-item-num\">1.1.2&nbsp;&nbsp;</span><strong>Binary Search</strong></a></span></li><li><span><a href=\"#Ternary-Search\" data-toc-modified-id=\"Ternary-Search-1.1.3\"><span class=\"toc-item-num\">1.1.3&nbsp;&nbsp;</span><strong>Ternary Search</strong></a></span></li></ul></li><li><span><a href=\"#Sorting-Algorithms\" data-toc-modified-id=\"Sorting-Algorithms-1.2\"><span class=\"toc-item-num\">1.2&nbsp;&nbsp;</span><strong>Sorting Algorithms</strong></a></span><ul class=\"toc-item\"><li><span><a href=\"#Basic-Functions-for-sorting\" data-toc-modified-id=\"Basic-Functions-for-sorting-1.2.1\"><span class=\"toc-item-num\">1.2.1&nbsp;&nbsp;</span><strong>Basic Functions for sorting</strong></a></span></li><li><span><a href=\"#Selection-Sort\" data-toc-modified-id=\"Selection-Sort-1.2.2\"><span class=\"toc-item-num\">1.2.2&nbsp;&nbsp;</span><strong>Selection Sort</strong></a></span></li><li><span><a href=\"#Bubble-Sort\" data-toc-modified-id=\"Bubble-Sort-1.2.3\"><span class=\"toc-item-num\">1.2.3&nbsp;&nbsp;</span><strong>Bubble Sort</strong></a></span></li><li><span><a href=\"#Insertion-Sort\" data-toc-modified-id=\"Insertion-Sort-1.2.4\"><span class=\"toc-item-num\">1.2.4&nbsp;&nbsp;</span><strong>Insertion Sort</strong></a></span></li><li><span><a href=\"#Merge-Sort\" data-toc-modified-id=\"Merge-Sort-1.2.5\"><span class=\"toc-item-num\">1.2.5&nbsp;&nbsp;</span><strong>Merge Sort</strong></a></span></li><li><span><a href=\"#Quick-Sort\" data-toc-modified-id=\"Quick-Sort-1.2.6\"><span class=\"toc-item-num\">1.2.6&nbsp;&nbsp;</span><strong>Quick Sort</strong></a></span></li></ul></li><li><span><a href=\"#Two-Pointers\" data-toc-modified-id=\"Two-Pointers-1.3\"><span class=\"toc-item-num\">1.3&nbsp;&nbsp;</span><strong>Two Pointers</strong></a></span><ul class=\"toc-item\"><li><ul class=\"toc-item\"><li><span><a href=\"#Two-Sum-Closest-to-X\" data-toc-modified-id=\"Two-Sum-Closest-to-X-1.3.0.1\"><span class=\"toc-item-num\">1.3.0.1&nbsp;&nbsp;</span><strong>Two Sum Closest to X</strong></a></span></li><li><span><a href=\"#Triplets-sum-with-given-value\" data-toc-modified-id=\"Triplets-sum-with-given-value-1.3.0.2\"><span class=\"toc-item-num\">1.3.0.2&nbsp;&nbsp;</span><strong>Triplets sum with given value</strong></a></span></li><li><span><a href=\"#Remove-Duplicates-from-a-Sorted-List\" data-toc-modified-id=\"Remove-Duplicates-from-a-Sorted-List-1.3.0.3\"><span class=\"toc-item-num\">1.3.0.3&nbsp;&nbsp;</span><strong>Remove Duplicates from a Sorted List</strong></a></span></li><li><span><a href=\"#Merge-Two-Sorted-Lists\" data-toc-modified-id=\"Merge-Two-Sorted-Lists-1.3.0.4\"><span class=\"toc-item-num\">1.3.0.4&nbsp;&nbsp;</span><strong>Merge Two Sorted Lists</strong></a></span></li></ul></li><li><span><a href=\"#Special-Sorting-Cases\" data-toc-modified-id=\"Special-Sorting-Cases-1.3.1\"><span class=\"toc-item-num\">1.3.1&nbsp;&nbsp;</span><strong>Special Sorting Cases</strong></a></span><ul class=\"toc-item\"><li><ul class=\"toc-item\"><li><span><a href=\"#Program-to-sort-a-vector-of-0s-and-1s-in-one-traversal-of-the-vector\" data-toc-modified-id=\"Program-to-sort-a-vector-of-0s-and-1s-in-one-traversal-of-the-vector-1.3.1.0.1\"><span class=\"toc-item-num\">1.3.1.0.1&nbsp;&nbsp;</span><strong>Program to sort a vector of 0s and 1s in one traversal of the vector</strong></a></span></li></ul></li><li><span><a href=\"#Sort-a-vector-of-0s,-1s,-and-2s\" data-toc-modified-id=\"Sort-a-vector-of-0s,-1s,-and-2s-1.3.1.1\"><span class=\"toc-item-num\">1.3.1.1&nbsp;&nbsp;</span><strong>Sort a vector of 0s, 1s, and 2s</strong></a></span></li></ul></li></ul></li></ul></li></ul></div>"
   ]
  },
  {
   "cell_type": "markdown",
   "metadata": {},
   "source": [
    "# __Searching , Sorting and Pointers Algorithms__"
   ]
  },
  {
   "cell_type": "markdown",
   "metadata": {
    "heading_collapsed": true
   },
   "source": [
    "## __ Searching Algorithms __"
   ]
  },
  {
   "cell_type": "code",
   "execution_count": 1,
   "metadata": {
    "ExecuteTime": {
     "end_time": "2020-08-30T13:29:00.454436Z",
     "start_time": "2020-08-30T13:29:00.446436Z"
    },
    "code_folding": [],
    "hidden": true
   },
   "outputs": [],
   "source": [
    "# # Table of Content\n",
    "\n",
    "# * [Searching Algorithms](#-Searching-Algorithms-)\n",
    "#     * [Linear Search](#-Linear-Search)\n",
    "#     * [Binary Search](#-Binary-Search)\n",
    "#     * [Ternary Search](#-Ternary-Search)\n",
    "# * [Sorting Algorithms](#-Sorting-Algorithms-) "
   ]
  },
  {
   "cell_type": "markdown",
   "metadata": {
    "heading_collapsed": true,
    "hidden": true
   },
   "source": [
    "### __Linear Search__"
   ]
  },
  {
   "cell_type": "code",
   "execution_count": 2,
   "metadata": {
    "ExecuteTime": {
     "end_time": "2020-08-30T13:29:00.998388Z",
     "start_time": "2020-08-30T13:29:00.518431Z"
    },
    "code_folding": [],
    "hidden": true
   },
   "outputs": [
    {
     "name": "stdout",
     "output_type": "stream",
     "text": [
      "Index of the Number present in list is :   3\n"
     ]
    }
   ],
   "source": [
    "# Index of the Number present in list\n",
    "\n",
    "arr = [ 2, 3, 4, 10, 40 ]; \n",
    "x = 10;\n",
    "\n",
    "def linear(lis , x):\n",
    "    for i in lis:\n",
    "        if i == x:\n",
    "            return lis.index(i)\n",
    "    return -1\n",
    "\n",
    "result = linear(arr,x)\n",
    "\n",
    "if result == -1:\n",
    "    print(\"Number is not present in list\")\n",
    "else:\n",
    "    print(\"Index of the Number present in list is :  \" , result)"
   ]
  },
  {
   "cell_type": "code",
   "execution_count": 3,
   "metadata": {
    "ExecuteTime": {
     "end_time": "2020-08-30T13:29:01.286381Z",
     "start_time": "2020-08-30T13:29:00.998388Z"
    },
    "hidden": true
   },
   "outputs": [
    {
     "name": "stdout",
     "output_type": "stream",
     "text": [
      "10\n"
     ]
    }
   ],
   "source": [
    "# Second Largest Element in a List\n",
    "\n",
    "list1 = [1, 3, 4, 9, 7, 10 , 6 ,13]\n",
    "\n",
    "def second_largest(numbers):\n",
    "    first = second = 0\n",
    "    for n in numbers:\n",
    "        if n > first:\n",
    "            first, second = n, first\n",
    "        elif first > n > second:\n",
    "            second = n\n",
    "    return second if second != 0 else None\n",
    "        \n",
    "print(second_largest(list1))"
   ]
  },
  {
   "cell_type": "code",
   "execution_count": 4,
   "metadata": {
    "ExecuteTime": {
     "end_time": "2020-08-30T13:29:01.462345Z",
     "start_time": "2020-08-30T13:29:01.286381Z"
    },
    "hidden": true
   },
   "outputs": [
    {
     "name": "stdout",
     "output_type": "stream",
     "text": [
      "Element 3 is present at index 4\n"
     ]
    }
   ],
   "source": [
    "# Linear search if Index using recurssion\n",
    "\n",
    "arr = [12, 34, 54, 2, 3] \n",
    "n = len(arr) \n",
    "x = 3\n",
    "\n",
    "def recSearch( arr, l, r, x): \n",
    "    if r < l: \n",
    "        return -1\n",
    "    if arr[l] == x: \n",
    "        return l \n",
    "    if arr[r] == x: \n",
    "        return r \n",
    "    return recSearch(arr, l+1, r-1, x)\n",
    "\n",
    "index = recSearch(arr, 0, n-1, x) \n",
    "if index != -1: \n",
    "    print (\"Element\", x,\"is present at index %d\" %(index)) \n",
    "else: \n",
    "    print (\"Element %d is not present\" %(x))"
   ]
  },
  {
   "cell_type": "markdown",
   "metadata": {
    "heading_collapsed": true,
    "hidden": true
   },
   "source": [
    "### __Binary Search__"
   ]
  },
  {
   "cell_type": "code",
   "execution_count": 5,
   "metadata": {
    "ExecuteTime": {
     "end_time": "2020-08-30T13:29:01.696110Z",
     "start_time": "2020-08-30T13:29:01.462345Z"
    },
    "hidden": true
   },
   "outputs": [
    {
     "name": "stdout",
     "output_type": "stream",
     "text": [
      "Element is present at index  4\n"
     ]
    }
   ],
   "source": [
    "# implementing Binary search recurssively\n",
    "\n",
    "lis1 = [1, 3, 4, 9, 7, 10, 6 ,13]\n",
    "x = 7\n",
    "\n",
    "def binary_search(lis1 , l , r , x):\n",
    "    lis1.sort()\n",
    "    if r >= l:\n",
    "        \n",
    "        mid = l + (r-l) //2\n",
    "        \n",
    "        if lis1[mid] == x: # if the mid is not the number we are finding\n",
    "            return mid\n",
    "        \n",
    "        elif lis1[mid] > x:\n",
    "            return binary_search(lis1 , l , mid-1 , x) # We areusing recurssion fuction to iterate from right\n",
    "        \n",
    "        \n",
    "        else:\n",
    "            return binary_search(lis1 , mid+1 , r , x) # wee are using recurssion function for iterating to the left\n",
    "    else:\n",
    "        return -1\n",
    "    \n",
    "\n",
    "\n",
    "result = binary_search(lis1 , 0 , len(list1)-1 , x)\n",
    "\n",
    "if result != -1: \n",
    "    print (\"Element is present at index % d\" % result) \n",
    "else: \n",
    "    print (\"Element is not present in array\")"
   ]
  },
  {
   "cell_type": "code",
   "execution_count": 6,
   "metadata": {
    "ExecuteTime": {
     "end_time": "2020-08-30T13:29:02.093871Z",
     "start_time": "2020-08-30T13:29:01.704133Z"
    },
    "hidden": true
   },
   "outputs": [
    {
     "name": "stdout",
     "output_type": "stream",
     "text": [
      "Element is present at index  4\n"
     ]
    }
   ],
   "source": [
    "\n",
    "def binarySearch(arr, l, r, x): \n",
    "  \n",
    "    # Check base case \n",
    "    if r >= l: \n",
    "  \n",
    "        mid = l + (r - l) // 2\n",
    "  \n",
    "        # If element is present at the middle itself \n",
    "        if arr[mid] == x: \n",
    "            return mid \n",
    "          \n",
    "        # If element is smaller than mid, then it can only be present in left subarray \n",
    "        elif arr[mid] > x: \n",
    "            return binarySearch(arr, l, mid-1, x) \n",
    "  \n",
    "        # Else the element can only be present in right subarray \n",
    "        else: \n",
    "            return binarySearch(arr, mid + 1, r, x) \n",
    "  \n",
    "    else: \n",
    "        # Element is not present in the array \n",
    "        return -1\n",
    "    \n",
    "arr = [ 2, 3, 4, 10, 40 ] \n",
    "val = 40\n",
    "  \n",
    "# Function call \n",
    "result = binarySearch(arr, 0, len(arr)-1, val) \n",
    "  \n",
    "if result != -1: \n",
    "    print (\"Element is present at index % d\" % result) \n",
    "else: \n",
    "    print (\"Element is not present in array\")\n"
   ]
  },
  {
   "cell_type": "code",
   "execution_count": 7,
   "metadata": {
    "ExecuteTime": {
     "end_time": "2020-08-30T13:29:02.349854Z",
     "start_time": "2020-08-30T13:29:02.093871Z"
    },
    "hidden": true
   },
   "outputs": [
    {
     "name": "stdout",
     "output_type": "stream",
     "text": [
      "Element is present at index 3\n"
     ]
    }
   ],
   "source": [
    "def binarySearch( arr, l, r, x): \n",
    "    if r >= l: \n",
    "        mid = l + ( r-l ) // 2\n",
    "\n",
    "        if arr[mid] == x: \n",
    "            return mid \n",
    "\n",
    "        if arr[mid] > x: \n",
    "            return binarySearch(arr, l, mid - 1, x) \n",
    " \n",
    "        return binarySearch(arr, mid + 1, r, x) \n",
    "\n",
    "    return -1\n",
    "\n",
    "def exponentialSearch(arr, n, x): \n",
    "\n",
    "    if arr[0] == x: \n",
    "        return 0\n",
    "\n",
    "    i = 1\n",
    "    while i < n and arr[i] <= x: \n",
    "        i = i * 2\n",
    "      \n",
    "\n",
    "    return binarySearch( arr, i // 2, min(i, n), x) \n",
    "      \n",
    "  \n",
    "arr = [2, 3, 4, 10, 40] \n",
    "n = len(arr) \n",
    "x = 10\n",
    "result = exponentialSearch(arr, n, x) \n",
    "if result == -1: \n",
    "    print (\"Element not found in thye array\")\n",
    "else: \n",
    "    print (\"Element is present at index %d\" %(result))"
   ]
  },
  {
   "cell_type": "code",
   "execution_count": 8,
   "metadata": {
    "ExecuteTime": {
     "end_time": "2020-08-30T13:29:02.517829Z",
     "start_time": "2020-08-30T13:29:02.357847Z"
    },
    "hidden": true
   },
   "outputs": [
    {
     "name": "stdout",
     "output_type": "stream",
     "text": [
      "32\n",
      "confirm 1024\n"
     ]
    }
   ],
   "source": [
    "n = 1049\n",
    "\n",
    "def binaryfloorsqrt(x):\n",
    "    # Base case condition , terminate if it is equal to 0\n",
    "    if (x == 0 or x ==1):\n",
    "        return x\n",
    "    \n",
    "    # Binary search starting    \n",
    "    start = 0  # Set start point for search\n",
    "    end = x     # Set end point for search\n",
    "    \n",
    "    # base case 2 condition of the start is lesser than the end\n",
    "    while (end > start):\n",
    "        # If it gets divided perfrectly then it is a perfect square\n",
    "        mid = round((start + end)/2)\n",
    "\n",
    "        # If x is a perfect square\n",
    "        if mid*mid == x:\n",
    "            return mid\n",
    "        # Check if the mid square is less than x  \n",
    "        elif (mid*mid < x):\n",
    "            start = mid+1\n",
    "            ans =  mid\n",
    "        else:\n",
    "            end = mid -1\n",
    "            \n",
    "    return ans\n",
    "        \n",
    "print(binaryfloorsqrt(n))\n",
    "\n",
    "# confirm:\n",
    "result = 32*32\n",
    "print(\"confirm\" , result)"
   ]
  },
  {
   "cell_type": "markdown",
   "metadata": {
    "heading_collapsed": true,
    "hidden": true
   },
   "source": [
    "### __Ternary Search__"
   ]
  },
  {
   "cell_type": "code",
   "execution_count": 9,
   "metadata": {
    "ExecuteTime": {
     "end_time": "2020-08-30T13:29:02.717823Z",
     "start_time": "2020-08-30T13:29:02.517829Z"
    },
    "hidden": true
   },
   "outputs": [
    {
     "name": "stdout",
     "output_type": "stream",
     "text": [
      "key is found at index: 3\n"
     ]
    }
   ],
   "source": [
    "# Ternary Search using recurssion\n",
    "\n",
    "list_vals = [10, 20, 30, 40, 50, 60, 70, 80]                              \n",
    "key = 40                             \n",
    "left_index = 0                                                          \n",
    "right_index = len(list_vals) \n",
    "\n",
    "def ternary_search(left_index, right_index, search_key, list_vals):             \n",
    "    if (right_index >= left_index):                                             \n",
    "        mid_index1 = left_index + (right_index -left_index)//3;                  \n",
    "        mid_index2 = right_index - (right_index - left_index)//3;                \n",
    "        if (list_vals[mid_index1] == search_key):                               \n",
    "            return mid_index1;                                                  \n",
    "        if (list_vals[mid_index2] == search_key):                               \n",
    "            return mid_index2;                                                  \n",
    "                                                                                \n",
    "        if (search_key < list_vals[mid_index1]):                                \n",
    "            return ternary_search(left_index,mid_index1-1, search_key, list_vals);\n",
    "        elif (search_key > list_vals[mid_index2]):                              \n",
    "            return ternary_search(mid_index2+1, right_index, search_key, list_vals);\n",
    "        else:                                                                   \n",
    "            return ternary_search(mid_index1+1, mid_index2-1, search_key, list_vals);\n",
    "    return -1;                                                                  \n",
    "                                                                                \n",
    "                                               \n",
    "                                            \n",
    "print(\"key is found at index: %d\" % ternary_search(left_index, right_index, key, list_vals));"
   ]
  },
  {
   "cell_type": "markdown",
   "metadata": {
    "heading_collapsed": true
   },
   "source": [
    "## __Sorting Algorithms__"
   ]
  },
  {
   "cell_type": "markdown",
   "metadata": {
    "heading_collapsed": true,
    "hidden": true
   },
   "source": [
    "### __Basic Functions for sorting__"
   ]
  },
  {
   "cell_type": "code",
   "execution_count": 11,
   "metadata": {
    "ExecuteTime": {
     "end_time": "2020-08-30T14:17:05.238459Z",
     "start_time": "2020-08-30T14:17:05.222456Z"
    },
    "hidden": true
   },
   "outputs": [
    {
     "data": {
      "text/plain": [
       "[20, 10, 15, 5, 29]"
      ]
     },
     "execution_count": 11,
     "metadata": {},
     "output_type": "execute_result"
    }
   ],
   "source": [
    "# Sorting numbers with respect to divisible of 10\n",
    "\n",
    "L = [15, 20, 5, 29, 10]\n",
    "\n",
    "def func(x):\n",
    "     return x % 10\n",
    "\n",
    "\n",
    "sorted(L, key = func)"
   ]
  },
  {
   "cell_type": "code",
   "execution_count": 3,
   "metadata": {
    "ExecuteTime": {
     "end_time": "2020-08-30T15:48:11.757854Z",
     "start_time": "2020-08-30T15:48:11.741875Z"
    },
    "hidden": true
   },
   "outputs": [
    {
     "name": "stdout",
     "output_type": "stream",
     "text": [
      "['I', 'to', 'in', 'love', 'code', 'Python']\n"
     ]
    }
   ],
   "source": [
    "# Sorting list with length of the string\n",
    "\n",
    "list1 = ['I', 'love', 'to', 'code', 'in', 'Python']\n",
    "\n",
    "def stringlen(x):\n",
    "    for i in x:\n",
    "        y = len(x)\n",
    "    return y\n",
    "\n",
    "print(sorted(list1 , key = stringlen))"
   ]
  },
  {
   "cell_type": "markdown",
   "metadata": {
    "hidden": true
   },
   "source": [
    "### __Selection Sort__"
   ]
  },
  {
   "cell_type": "code",
   "execution_count": 75,
   "metadata": {
    "ExecuteTime": {
     "end_time": "2020-08-30T17:26:12.850678Z",
     "start_time": "2020-08-30T17:26:12.836687Z"
    },
    "hidden": true
   },
   "outputs": [
    {
     "data": {
      "text/plain": [
       "[5, 11, 12, 22, 25, 64]"
      ]
     },
     "execution_count": 75,
     "metadata": {},
     "output_type": "execute_result"
    }
   ],
   "source": [
    "A = [64, 25, 12, 22, 11 , 5]\n",
    "\n",
    "def Selection_sort(list_):\n",
    "    index_len = range(0,len(list_)) # defining the range of the sorting\n",
    "    \n",
    "    for i in index_len: # iterating length of the entire list \n",
    "\n",
    "        first_index = i #  setting first index i.e \"0\" as minimum value\n",
    "\n",
    "        for j in range(i+1 , len(index_len)): # setting second index i.e \"1\" as comparing value\n",
    "            if list_[j] < list_[first_index]: #  Checking if the secind index value is smaller than the first index value\n",
    "                first_index = j # If second index value is smaller than setting the second index in the begining of the list or \n",
    "                                # it will iterate the list\n",
    "            \n",
    "        if first_index != i: # if first index i.e \"0\" is changed with the second index i.e \"1\" \n",
    "            list_[i] , list_[first_index] = list_[first_index] , list_[i] # Swapping the numbers in the list\n",
    "    return list_ # return the list\n",
    "        \n",
    "Selection_sort(A) # Function call"
   ]
  },
  {
   "cell_type": "markdown",
   "metadata": {
    "hidden": true
   },
   "source": [
    "### __Bubble Sort__"
   ]
  },
  {
   "cell_type": "code",
   "execution_count": 80,
   "metadata": {
    "ExecuteTime": {
     "end_time": "2020-08-30T18:23:08.450179Z",
     "start_time": "2020-08-30T18:23:08.426201Z"
    },
    "hidden": true
   },
   "outputs": [
    {
     "data": {
      "text/plain": [
       "[5, 11, 12, 22, 25, 64]"
      ]
     },
     "execution_count": 80,
     "metadata": {},
     "output_type": "execute_result"
    }
   ],
   "source": [
    "A = [64, 25, 12, 22, 11 , 5]\n",
    "\n",
    "def Bubble_sort(list_):\n",
    "    index_len = len(list_) -1   # as the last index is assumed to be sorted we ignore the last index (it is in-Place algorithm)\n",
    "    sorted_list = False         # we assume the list is unsorted\n",
    "    \n",
    "    while not sorted_list:                      # Dont know the number of iterations hence while loop\n",
    "        sorted_list = True                      # if the list is sorted then exit the while loop\n",
    "        for i in range(0, index_len):           # iterating the list till the end in passes ( First pass, second pass.. etc)\n",
    "            if list_[i] > list_[i + 1]:         # checking if the first value is greater than the second value in list_\n",
    "                sorted_list = False             # If it is greater then it is not a sorted list , while loop continues\n",
    "                list_[i], list_[i + 1] = list_[i + 1] , list_[i]    # Swapping the values in list\n",
    "    \n",
    "    return list_\n",
    "\n",
    "Bubble_sort(A)    "
   ]
  },
  {
   "cell_type": "markdown",
   "metadata": {
    "hidden": true
   },
   "source": [
    "### __Insertion Sort__"
   ]
  },
  {
   "cell_type": "code",
   "execution_count": 82,
   "metadata": {
    "ExecuteTime": {
     "end_time": "2020-08-30T18:46:54.805623Z",
     "start_time": "2020-08-30T18:46:54.789627Z"
    },
    "hidden": true
   },
   "outputs": [
    {
     "data": {
      "text/plain": [
       "[5, 11, 12, 22, 25, 64]"
      ]
     },
     "execution_count": 82,
     "metadata": {},
     "output_type": "execute_result"
    }
   ],
   "source": [
    "A = [64, 25, 12, 22, 11 , 5]\n",
    "\n",
    "def Insertion_Sort(list_):\n",
    "\n",
    "    for i in range(1, len(list_)):\n",
    "\n",
    "        while list_[i - 1] > list_[i] and i > 0:\n",
    "            \n",
    "            list_[i - 1], list_[i] = list_[i], list_[i - 1]\n",
    "            \n",
    "            i = i - 1\n",
    "            \n",
    "    return list_\n",
    "\n",
    "Insertion_Sort(A)"
   ]
  },
  {
   "cell_type": "markdown",
   "metadata": {
    "hidden": true
   },
   "source": [
    "### __Merge Sort__"
   ]
  },
  {
   "cell_type": "code",
   "execution_count": 9,
   "metadata": {
    "ExecuteTime": {
     "end_time": "2020-08-30T22:30:42.505622Z",
     "start_time": "2020-08-30T22:30:42.481605Z"
    },
    "hidden": true
   },
   "outputs": [
    {
     "name": "stdout",
     "output_type": "stream",
     "text": [
      "1 5 6 9 10 12 \n"
     ]
    }
   ],
   "source": [
    "# Merge Sort:\n",
    "\n",
    "# This divide and conquer algorithm splits a list in half, and keeps splitting the list by 2 until it only has singular elements.\n",
    "# Adjacent elements become sorted pairs, then sorted pairs are merged and sorted with other pairs as well.\n",
    "# This process continues until we get a sorted list with all the elements of the unsorted input list.\n",
    "\n",
    "# The merge function works as follows:\n",
    "\n",
    "# Create copies of the subarrays L ← A[p..q] and M ← A[q+1..r].\n",
    "# Create three pointers i, j and k\n",
    "# i maintains current index of L, starting at 1\n",
    "# j maintains current index of M, starting at 1\n",
    "# k maintains the current index of A[p..q], starting at p.\n",
    "# Until we reach the end of either L or M, pick the larger among the elements from L and M and place them in the \n",
    "# correct position at A[p..q]\n",
    "# When we run out of elements in either L or M, pick up the remaining elements and put in A[p..q]\n",
    "\n",
    "# MergeSort in Python\n",
    "\n",
    "array = [6, 5, 12, 10, 9, 1]\n",
    "\n",
    "def mergeSort(array):\n",
    "    if len(array) > 1:\n",
    "\n",
    "        #  r is the point where the array is divided into two subarrays\n",
    "        r = len(array)//2\n",
    "        L = array[:r]\n",
    "        M = array[r:]\n",
    "\n",
    "        # Sort the two halves\n",
    "        mergeSort(L)\n",
    "        mergeSort(M)\n",
    "\n",
    "        i = j = k = 0\n",
    "\n",
    "        # Until we reach either end of either L or M, pick larger among\n",
    "        # elements L and M and place them in the correct position at A[p..r]\n",
    "        while i < len(L) and j < len(M):\n",
    "            if L[i] < M[j]:\n",
    "                array[k] = L[i]\n",
    "                i += 1\n",
    "            else:\n",
    "                array[k] = M[j]\n",
    "                j += 1\n",
    "            k += 1\n",
    "\n",
    "        # When we run out of elements in either L or M,\n",
    "        # pick up the remaining elements and put in A[p..r]\n",
    "        while i < len(L):\n",
    "            array[k] = L[i]\n",
    "            i += 1\n",
    "            k += 1\n",
    "\n",
    "        while j < len(M):\n",
    "            array[k] = M[j]\n",
    "            j += 1\n",
    "            k += 1\n",
    "\n",
    "\n",
    "# Print the array\n",
    "def printList(array):\n",
    "    for i in range(len(array)):\n",
    "        print(array[i], end=\" \")\n",
    "    print()\n",
    "\n",
    "\n",
    "\n",
    "mergeSort(array) # here we merge sort array\n",
    "printList(array) # here we print list array"
   ]
  },
  {
   "cell_type": "markdown",
   "metadata": {
    "heading_collapsed": true,
    "hidden": true
   },
   "source": [
    "### __Quick Sort__"
   ]
  },
  {
   "cell_type": "code",
   "execution_count": 10,
   "metadata": {
    "ExecuteTime": {
     "end_time": "2020-08-30T22:36:37.738947Z",
     "start_time": "2020-08-30T22:36:37.714931Z"
    },
    "hidden": true
   },
   "outputs": [
    {
     "name": "stdout",
     "output_type": "stream",
     "text": [
      "Sorted Array in Ascending Order:\n",
      "[0, 1, 2, 6, 7, 8, 9]\n"
     ]
    }
   ],
   "source": [
    "# A pivot element is chosen from the array. You can choose any element from the array as the pivot element.\n",
    "# The elements smaller than the pivot element are put on the left and the elements greater than the pivot element are put on the right.\n",
    "    # A pointer is fixed at the pivot element. The pivot element is compared with the elements beginning from the first index. If the element greater than the pivot element is reached, a second pointer is set for that element.\n",
    "    # Now, the pivot element is compared with the other elements (a third pointer). If an element smaller than the pivot element is reached, the smaller element is swapped with the greater element found earlier.\n",
    "    # The process goes on until the second last element is reached. Finally, the pivot element is swapped with the second pointer.\n",
    "    # Now the left and right subparts of this pivot element are taken for further processing in the steps below.\n",
    "# Pivot elements are again chosen for the left and the right sub-parts separately. Within these sub-parts, \n",
    "# the pivot elements are placed at their right position. Then, step 2 is repeated.\n",
    "# The sub-parts are again divided into smaller sub-parts until each subpart is formed of a single element.\n",
    "# At this point, the array is already sorted.\n",
    "\n",
    "\n",
    "\n",
    "data = [8, 7, 2, 1, 0, 9, 6]\n",
    "size = len(data)\n",
    "\n",
    "# Function to partition the array on the basis of pivot element\n",
    "def partition(array, low, high):\n",
    "\n",
    "    # Select the pivot element\n",
    "    pivot = array[high]\n",
    "    i = low - 1\n",
    "\n",
    "    # Put the elements smaller than pivot on the left and greater \n",
    "    #than pivot on the right of pivot\n",
    "    for j in range(low, high):\n",
    "        if array[j] <= pivot:\n",
    "            i = i + 1\n",
    "            (array[i], array[j]) = (array[j], array[i])\n",
    "\n",
    "    (array[i + 1], array[high]) = (array[high], array[i + 1])\n",
    "\n",
    "    return i + 1\n",
    "\n",
    "\n",
    "def quickSort(array, low, high):\n",
    "    if low < high:\n",
    "\n",
    "        # Select pivot position and put all the elements smaller \n",
    "        # than pivot on left and greater than pivot on right\n",
    "        pi = partition(array, low, high)\n",
    "\n",
    "        # Sort the elements on the left of pivot\n",
    "        quickSort(array, low, pi - 1)\n",
    "\n",
    "        # Sort the elements on the right of pivot\n",
    "        quickSort(array, pi + 1, high)\n",
    "\n",
    "\n",
    "\n",
    "quickSort(data, 0, size - 1)\n",
    "print('Sorted Array in Ascending Order:')\n",
    "print(data)"
   ]
  },
  {
   "cell_type": "markdown",
   "metadata": {
    "heading_collapsed": true
   },
   "source": [
    "## __Two Pointers__"
   ]
  },
  {
   "cell_type": "code",
   "execution_count": 25,
   "metadata": {
    "ExecuteTime": {
     "end_time": "2020-08-31T05:08:44.764407Z",
     "start_time": "2020-08-31T05:08:44.724431Z"
    },
    "hidden": true
   },
   "outputs": [
    {
     "data": {
      "text/plain": [
       "True"
      ]
     },
     "execution_count": 25,
     "metadata": {},
     "output_type": "execute_result"
    }
   ],
   "source": [
    "# For a sorted list L (sorted in an ascending order), containing ‘n’ integers, find if there exists a pair of elements in \n",
    "# the list — whose sum is equal to ‘S’\n",
    "# normal scenario for linear search time complexity is O(n^2) ,  as there are two loops \n",
    "\n",
    "A = [64, 25, 12, 22, 11 , 5]\n",
    "ad = 75\n",
    "\n",
    "def twosum(L, S):\n",
    "    n = len(L)\n",
    "    for i in range(0,n):\n",
    "        for j in reversed(range(0,n)):\n",
    "            if i != j and L[i] + L[j] == S:\n",
    "                return True\n",
    "            \n",
    "    return False\n",
    "\n",
    "twosum(A,ad)"
   ]
  },
  {
   "cell_type": "code",
   "execution_count": 26,
   "metadata": {
    "ExecuteTime": {
     "end_time": "2020-08-31T05:08:53.167617Z",
     "start_time": "2020-08-31T05:08:53.143638Z"
    },
    "hidden": true
   },
   "outputs": [
    {
     "data": {
      "text/plain": [
       "True"
      ]
     },
     "execution_count": 26,
     "metadata": {},
     "output_type": "execute_result"
    }
   ],
   "source": [
    "# Linear Search with two pointers for a sorted list time complexity is O(n) ,as ther is only one loop\n",
    "\n",
    "A = [1, 2, 3, 4 , 5]\n",
    "ad = 7\n",
    "\n",
    "def find_sum(list_ , S):\n",
    "    n = len(list_)\n",
    "    r = 0            # Pointer at the begining of the list\n",
    "    l = n-1          # Pointer at the End of the list\n",
    "    \n",
    "    \n",
    "    while r < l and r != l:\n",
    "        if list_[r] + list_[l] == S:\n",
    "            return True\n",
    "        \n",
    "        elif list_[r] + list_[l] < S:\n",
    "            r += 1\n",
    "            \n",
    "        else: \n",
    "            l -=1\n",
    "            \n",
    "    return False\n",
    "\n",
    "find_sum(A,ad)\n",
    "            "
   ]
  },
  {
   "cell_type": "code",
   "execution_count": 42,
   "metadata": {
    "ExecuteTime": {
     "end_time": "2020-08-31T05:44:04.366236Z",
     "start_time": "2020-08-31T05:44:04.350236Z"
    },
    "hidden": true
   },
   "outputs": [
    {
     "name": "stdout",
     "output_type": "stream",
     "text": [
      "Sum condition satisifies\n",
      "10 6\n"
     ]
    }
   ],
   "source": [
    "list1 = [-8, 1, 4, 6, 10, 45]\n",
    "x = 16\n",
    "\n",
    "# check for the sum condition to be satisified\n",
    "\n",
    "def Sum_Closest(list_ , s):\n",
    "    length = len(list_)\n",
    "    l = 0\n",
    "    r = length-1\n",
    "    \n",
    "    while l < r:\n",
    "        if list_[l] + list_[r] == s:\n",
    "            return \"Sum condition satisifies\"\n",
    "        \n",
    "        elif list_[l] + list_[r] < s:\n",
    "            l +=1\n",
    "        else:\n",
    "            r -=1\n",
    "            \n",
    "    return \"Sum condition does not satisify\"\n",
    "\n",
    "# Implementation function to get the given sum by **Hashing.\n",
    "\n",
    "\n",
    "def Get_pair(list_ , length_, sum_):\n",
    "    \n",
    "    s = set()\n",
    "    \n",
    "    for i in range(length_):\n",
    "        temp = sum_ - list_[i]\n",
    "        if (temp in s):\n",
    "            print(list_[i], temp)\n",
    "        s.add(list_[i])\n",
    "        \n",
    "\n",
    "print(Sum_Closest(list1 , x))\n",
    "Get_pair(list1 , len(list1)  , x)"
   ]
  },
  {
   "cell_type": "markdown",
   "metadata": {
    "ExecuteTime": {
     "end_time": "2020-08-31T05:13:21.446704Z",
     "start_time": "2020-08-31T05:13:21.430710Z"
    },
    "heading_collapsed": true,
    "hidden": true
   },
   "source": [
    "#### __Two Sum Closest to X__"
   ]
  },
  {
   "cell_type": "code",
   "execution_count": 61,
   "metadata": {
    "ExecuteTime": {
     "end_time": "2020-08-31T07:43:57.017493Z",
     "start_time": "2020-08-31T07:43:56.998504Z"
    },
    "hidden": true
   },
   "outputs": [
    {
     "data": {
      "text/plain": [
       "(22, 30)"
      ]
     },
     "execution_count": 61,
     "metadata": {},
     "output_type": "execute_result"
    }
   ],
   "source": [
    "list1 = [10, 22, 28, 29, 30, 40] \n",
    "x = 54\n",
    "\n",
    "def closest_sum(list_ , s):\n",
    "    length = len(list_)\n",
    "    l = 0 # first pointers at begining\n",
    "    r = length-1 # second pointer at begining\n",
    "    \n",
    "    idx1 , idx2 = 0 , 0 # defining the initial index where the closest pair exist\n",
    "    \n",
    "    diff = 10   # diff value sould be to infinity\n",
    "    \n",
    "    while l < r:\n",
    "        \n",
    "        # closest pair so far \n",
    "        if abs(list_[l] + list_[r] - s) < diff:\n",
    "                idx1 = l                            # setting the first value index as closest from left\n",
    "                idx2 = r                            # setting the second value index as closest from right\n",
    "                diff = abs(list_[l] + list_[r] - s) # Updating the diff which should become shorter\n",
    "                \n",
    "        if list_[l] + list_[r] > s:\n",
    "            r -= 1\n",
    "        else:\n",
    "            l += 1\n",
    "        \n",
    "    return (list_[idx1] , list_[idx2])\n",
    "    \n",
    "closest_sum(list1,x)"
   ]
  },
  {
   "cell_type": "markdown",
   "metadata": {
    "heading_collapsed": true,
    "hidden": true
   },
   "source": [
    "#### __Triplets sum with given value__"
   ]
  },
  {
   "cell_type": "code",
   "execution_count": 9,
   "metadata": {
    "ExecuteTime": {
     "end_time": "2020-08-31T16:57:40.535998Z",
     "start_time": "2020-08-31T16:57:40.508006Z"
    },
    "hidden": true
   },
   "outputs": [
    {
     "name": "stdout",
     "output_type": "stream",
     "text": [
      "4 8 10\n"
     ]
    },
    {
     "data": {
      "text/plain": [
       "True"
      ]
     },
     "execution_count": 9,
     "metadata": {},
     "output_type": "execute_result"
    }
   ],
   "source": [
    "A = [1, 4, 45, 6, 10, 8] \n",
    "find_value = 22\n",
    "\n",
    "def Triple_sum(list_ , find_):\n",
    "    len_list = len(list_) # taking the length of the string in this case is it \"6\"\n",
    "    l = 0                 # Setting pointer at the starting of the list \"index = 0\"\n",
    "    r = len_list-1        # Setting pointer at the end of the list \"index  = 5\"\n",
    "    \n",
    "    for i in range(l,r):                                             #  first iteration for the index = 0...5\n",
    "        \n",
    "        s = set()                                                    # creating hashmap or set to make sure that there are no duplicates\n",
    "        current_sum = find_value - list_[i]                         # setting sum as \"sum - first iteration number - second\" = third number in set() \n",
    "        \n",
    "        for j in range(i+1 , len_list):                              # Second iteration for (0...5) of (1 to 6) taking an extra space\n",
    "            if (current_sum - list_[j]) in s:                        # Checking if updated current sum - second index is in Hashmap pairs\n",
    "                print(list_[i], list_[j] , current_sum - list_[j])   # if present print value if ith index, value of jth index , and current sum - j such that Current sum - ith -jth  = any reminder\n",
    "                return True                                          # return True\n",
    "            s.add(list_[j])                                         # if condition doesnt meet then add it to Hashmap.\n",
    "            \n",
    "    return False \n",
    "        \n",
    "Triple_sum(A,find_value)"
   ]
  },
  {
   "cell_type": "markdown",
   "metadata": {
    "heading_collapsed": true,
    "hidden": true
   },
   "source": [
    "#### __Remove Duplicates from a Sorted List__"
   ]
  },
  {
   "cell_type": "code",
   "execution_count": 28,
   "metadata": {
    "ExecuteTime": {
     "end_time": "2020-08-31T17:21:56.016306Z",
     "start_time": "2020-08-31T17:21:56.005313Z"
    },
    "hidden": true
   },
   "outputs": [
    {
     "name": "stdout",
     "output_type": "stream",
     "text": [
      "1 2 3 4 5 4 5 "
     ]
    }
   ],
   "source": [
    "list2 = [1, 2, 2, 3, 4, 4, 4, 5, 5]\n",
    "n = len(list2)\n",
    "\n",
    "def Remove_dup(list_ , n):\n",
    "    n = len(list_)\n",
    "    \n",
    "    if n == 1 or n == 0:\n",
    "        return n\n",
    "    \n",
    "    j = 0\n",
    "    \n",
    "    for i in range(0, n-1):\n",
    "        if list_[i] != list_[i+1]:\n",
    "            list_[j] = list_[i]\n",
    "            j += 1\n",
    "    \n",
    "    list_[j] = list_[n-1]\n",
    "    j +=1\n",
    "            \n",
    "    return j\n",
    "\n",
    "\n",
    "n = Remove_dup(list_ , n)\n",
    "for i in range(0 , n):\n",
    "    print(list_[i],end =\" \")"
   ]
  },
  {
   "cell_type": "markdown",
   "metadata": {
    "heading_collapsed": true,
    "hidden": true
   },
   "source": [
    "#### __Merge Two Sorted Lists__"
   ]
  },
  {
   "cell_type": "code",
   "execution_count": 42,
   "metadata": {
    "ExecuteTime": {
     "end_time": "2020-08-31T19:38:55.088157Z",
     "start_time": "2020-08-31T19:38:55.024142Z"
    },
    "hidden": true
   },
   "outputs": [
    {
     "name": "stdout",
     "output_type": "stream",
     "text": [
      "[1, 2, 3, 4, 5, 6, 7, 8]\n"
     ]
    }
   ],
   "source": [
    "# list_ = [[1, 3, 5, 7],[2, 4, 6, 8]]\n",
    "# arr1 = list_[0] \n",
    "# n1 = len(arr1) \n",
    "  \n",
    "# arr2 = list_[1] \n",
    "# n2 = len(arr2)\n",
    "\n",
    "list1 = [1, 3, 5, 7]\n",
    "list2 = [2, 4, 6, 8]\n",
    "\n",
    "# Initialize two pointer variables to zero. 'i' will be used for pointing at list1\n",
    "# and 'j' for pointing at list2\n",
    "i = 0\n",
    "j = 0\n",
    "\n",
    "# Create an empty list into which we will merge the two sorted lists\n",
    "sorted_list = []\n",
    "\n",
    "# Run a loop until one of the pointers reaches the end of its list\n",
    "while(i < len(list1) and j < len(list2)):\n",
    "    \n",
    "# If the ith element in list1 is less than the jth element in list2, append this\n",
    "# element to the sorted_list and increment the 'i' pointer by 1\n",
    "    if(list1[i] < list2[j]):\n",
    "        sorted_list.append(list1[i])\n",
    "        i = i + 1 \n",
    "        \n",
    "# If the jth element in list2 is less than the ith element in list1, append this\n",
    "# element to the sorted_list and increment the 'j' pointer by 1\n",
    "    elif(list1[i] > list2[j]):\n",
    "        sorted_list.append(list2[j])\n",
    "        j = j + 1\n",
    "        \n",
    "# If both the elements are equal, append both to the sorted_list and increment both\n",
    "# the pointers by 1\n",
    "    elif(list1[i] == list2[j]):\n",
    "        sorted_list.append(list1[i])\n",
    "        sorted_list.append(list2[j])\n",
    "        i = i + 1 \n",
    "        j = j + 1\n",
    "    \n",
    "# Since it is possible that both of the lists are not of the same length, check \n",
    "# the pointer that hasn't reached the end of the list and append all the remaining\n",
    "# elements of this list in order\n",
    "if(i < len(list1)):\n",
    "    while(i < len(list1)):\n",
    "        sorted_list.append(list1[i])\n",
    "        i = i + 1\n",
    "elif(j < len(list2)):\n",
    "    while(j < len(list2)):\n",
    "        sorted_list.append(list2[j])\n",
    "        j = j + 1\n",
    "\n",
    "# Print the sorted list        \n",
    "print(sorted_list)"
   ]
  },
  {
   "cell_type": "markdown",
   "metadata": {
    "heading_collapsed": true,
    "hidden": true
   },
   "source": [
    "### __Special Sorting Cases__"
   ]
  },
  {
   "cell_type": "markdown",
   "metadata": {
    "heading_collapsed": true,
    "hidden": true
   },
   "source": [
    "##### __Program to sort a vector of 0s and 1s in one traversal of the vector__"
   ]
  },
  {
   "cell_type": "code",
   "execution_count": 1,
   "metadata": {
    "ExecuteTime": {
     "end_time": "2020-09-01T12:25:43.176479Z",
     "start_time": "2020-09-01T12:25:43.164482Z"
    },
    "hidden": true
   },
   "outputs": [
    {
     "name": "stdout",
     "output_type": "stream",
     "text": [
      "[0, 0, 0, 0, 0, 0, 0, 1, 1, 1, 1, 1, 1, 1]\n"
     ]
    }
   ],
   "source": [
    "# Program to sort a vector of 0s and 1s in one traversal of the vector\n",
    "\n",
    "# Initialise two variables ‘i’ and ‘j’ to 1, indicating that they are pointing at the first element of the vector.\n",
    "# Run a loop from 1 to the length of the vector, using the variable i.\n",
    "# If the current element, i.e. v[i] is 0, swap v[i] and v[j] and increment the value of ‘j’ by 1.\n",
    "# If the current element is 1, do nothing.\n",
    "\n",
    "# Given vector of 0s and 1s\n",
    "v = [0, 0, 1, 1, 1, 1, 0, 1, 0, 0, 0, 1, 1, 0]\n",
    "n = len(v)\n",
    "# Initialise two variables 'i' and 'j' to 1, indicating that they are currently pointing at the \n",
    "# first element in the vector.\n",
    "i = 0\n",
    "j = 0\n",
    "\n",
    "# Run a loop from 1 to the length of the vector, with the variable 'i'\n",
    "for i in range(n):\n",
    "#     print(i)\n",
    "  \n",
    "# If you encounter a zero, swap the values between v[i] & v[j] and increment 'j' as well. 'i'\n",
    "# anyway gets incremented with every iteration of the loop. Think about it. This way, 'j' will\n",
    "# always point at the first '1' that hasn't been sorted. Swapping the value of v[i]\n",
    "# and v[j] will help replace the 1s with 0s that come after it. If v[j] is pointing at zero,\n",
    "# swapping won't matter anyway.\n",
    "    if(v[i] == 0):\n",
    "        temp = v[j]\n",
    "        v[j] = v[i]\n",
    "        v[i] = temp\n",
    "        j = j + 1\n",
    "\n",
    "# Print the sorted vector\n",
    "print(v)"
   ]
  },
  {
   "cell_type": "markdown",
   "metadata": {
    "heading_collapsed": true,
    "hidden": true
   },
   "source": [
    "#### __Sort a vector of 0s, 1s, and 2s__"
   ]
  },
  {
   "cell_type": "code",
   "execution_count": 81,
   "metadata": {
    "ExecuteTime": {
     "end_time": "2020-09-01T15:38:28.573236Z",
     "start_time": "2020-09-01T15:38:28.557243Z"
    },
    "hidden": true
   },
   "outputs": [
    {
     "name": "stdout",
     "output_type": "stream",
     "text": [
      "[0, 0, 0, 0, 1, 1, 1, 2, 2]\n"
     ]
    }
   ],
   "source": [
    "\n",
    "L = [0, 2, 0, 0, 1, 1, 2, 0, 1]\n",
    "\n",
    "\n",
    "def sort_zeros(list_):\n",
    "    start = 0\n",
    "    mid = 0\n",
    "    d = len(list_)\n",
    "    end = d -1\n",
    "    \n",
    "    while mid <= end:\n",
    "        \n",
    "        if (list_[mid] == 0):\n",
    "            list_[start] , list_[mid] = list_[mid] , list_[start]                       # storing the value of J in temp\n",
    "            start = start + 1\n",
    "            mid = mid + 1\n",
    "            \n",
    "        elif list_[mid] == 1:\n",
    "            mid = mid + 1\n",
    "            \n",
    "        else:\n",
    "            list_[end] , list_[mid] = list_[mid] , list_[end]\n",
    "            end = end -1\n",
    "            \n",
    "    return list_\n",
    "\n",
    "print(sort_zeros(L))"
   ]
  },
  {
   "cell_type": "code",
   "execution_count": null,
   "metadata": {
    "hidden": true
   },
   "outputs": [],
   "source": []
  }
 ],
 "metadata": {
  "kernelspec": {
   "display_name": "Python 3",
   "language": "python",
   "name": "python3"
  },
  "language_info": {
   "codemirror_mode": {
    "name": "ipython",
    "version": 3
   },
   "file_extension": ".py",
   "mimetype": "text/x-python",
   "name": "python",
   "nbconvert_exporter": "python",
   "pygments_lexer": "ipython3",
   "version": "3.6.5"
  },
  "nbTranslate": {
   "displayLangs": [
    "*"
   ],
   "hotkey": "alt-t",
   "langInMainMenu": true,
   "sourceLang": "en",
   "targetLang": "fr",
   "useGoogleTranslate": true
  },
  "toc": {
   "base_numbering": 1,
   "nav_menu": {
    "height": "279px",
    "width": "308px"
   },
   "number_sections": true,
   "sideBar": true,
   "skip_h1_title": false,
   "title_cell": "Table of Contents",
   "title_sidebar": "Contents",
   "toc_cell": true,
   "toc_position": {
    "height": "477px",
    "left": "33px",
    "top": "297px",
    "width": "165px"
   },
   "toc_section_display": true,
   "toc_window_display": false
  },
  "varInspector": {
   "cols": {
    "lenName": 16,
    "lenType": 16,
    "lenVar": 40
   },
   "kernels_config": {
    "python": {
     "delete_cmd_postfix": "",
     "delete_cmd_prefix": "del ",
     "library": "var_list.py",
     "varRefreshCmd": "print(var_dic_list())"
    },
    "r": {
     "delete_cmd_postfix": ") ",
     "delete_cmd_prefix": "rm(",
     "library": "var_list.r",
     "varRefreshCmd": "cat(var_dic_list()) "
    }
   },
   "oldHeight": 470,
   "position": {
    "height": "492px",
    "left": "941px",
    "right": "20px",
    "top": "58px",
    "width": "350px"
   },
   "types_to_exclude": [
    "module",
    "function",
    "builtin_function_or_method",
    "instance",
    "_Feature"
   ],
   "varInspector_section_display": "block",
   "window_display": false
  }
 },
 "nbformat": 4,
 "nbformat_minor": 2
}
